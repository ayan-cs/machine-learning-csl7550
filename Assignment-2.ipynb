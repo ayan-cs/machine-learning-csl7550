{
  "nbformat": 4,
  "nbformat_minor": 2,
  "metadata": {
    "colab": {
      "name": "ML_Assignment-2.ipynb",
      "provenance": [],
      "collapsed_sections": [],
      "toc_visible": true
    },
    "kernelspec": {
      "display_name": "Python 3",
      "name": "python3"
    },
    "language_info": {
      "name": "python"
    }
  },
  "cells": [
    {
      "cell_type": "markdown",
      "source": [
        "# **Insurance Dataset**\r\n",
        "\r\n",
        "In the below implementations, I have used the [`insurance.csv` dataset](https://www.kaggle.com/awaiskaggler/insurance-csv). This dataset gives an idea about the insurance coverage of a person based on certain characteristics of that person. These characterics have been given as **features** and there are total ${1338}$ instances.\r\n",
        "\r\n",
        "- `Age` : $\\in \\mathbb{Z}$\r\n",
        "- `Sex` : $\\{Male=0, Female=1\\}$ \r\n",
        "- `BMI` : $\\in \\mathbb{R}$\r\n",
        "- `Children` : $\\in \\mathbb{Z}$\r\n",
        "- `Smoker` : $\\{No=0, Yes=1\\}$\r\n",
        "- `Region` : $\\{Northwest=0, Southwest=1\\}$\r\n",
        "\r\n",
        "The value that has to be predicted is the `Insurance Charges` which takes continuous values $(\\in \\mathbb{R})$"
      ],
      "metadata": {
        "id": "5LzLaw2VQiLH"
      }
    },
    {
      "cell_type": "code",
      "execution_count": null,
      "source": [
        "import pandas as pd\r\n",
        "df = pd.read_csv('./datasets/insurance.csv')\r\n",
        "df.head(5)"
      ],
      "outputs": [],
      "metadata": {}
    },
    {
      "cell_type": "markdown",
      "source": [
        "# **Linear Regression using Gradient descent**\n",
        "\n",
        "As the dataset is having more than one feature, I have used **Batch Gradient Descent** algorithm for updating the weight vector represented by $\\underline w$.\n",
        "\n",
        "I have implemented each steps seperately and then I have used the inbuilt **`LinearRegression()`** from **`sklearn`** to compare the scores."
      ],
      "metadata": {
        "id": "DvwXDWesADLD"
      }
    },
    {
      "cell_type": "markdown",
      "source": [
        "## Preprocessing Task\n",
        "\n",
        "There are some features which are categorical and take binary values. So the values have been converted into numerical values i.e. 0 and 1."
      ],
      "metadata": {
        "id": "1bMpnCkdlBkm"
      }
    },
    {
      "cell_type": "code",
      "execution_count": null,
      "source": [
        "import numpy as np\r\n",
        "import pandas as pd\r\n",
        "from sklearn.preprocessing import LabelEncoder\r\n",
        "\r\n",
        "df = pd.read_csv('./datasets/insurance.csv')\r\n",
        "print(df.head(5))\r\n",
        "\r\n",
        "le = LabelEncoder()\r\n",
        "\r\n",
        "le.fit(df['sex'])\r\n",
        "df['sex'] = le.transform(df['sex'])\r\n",
        "\r\n",
        "le.fit(df['smoker'])\r\n",
        "df['smoker'] = le.transform(df['smoker'])\r\n",
        "\r\n",
        "le.fit(df['region'])\r\n",
        "df['region'] = le.transform(df['region'])\r\n",
        "\r\n",
        "print(df.head(5))"
      ],
      "outputs": [
        {
          "output_type": "stream",
          "name": "stdout",
          "text": [
            "   age     sex   bmi  children smoker     region  expenses\n",
            "0   19  female  27.9         0    yes  southwest  16884.92\n",
            "1   18    male  33.8         1     no  southeast   1725.55\n",
            "2   28    male  33.0         3     no  southeast   4449.46\n",
            "3   33    male  22.7         0     no  northwest  21984.47\n",
            "4   32    male  28.9         0     no  northwest   3866.86\n",
            "   age  sex   bmi  children  smoker  region  expenses\n",
            "0   19    0  27.9         0       1       3  16884.92\n",
            "1   18    1  33.8         1       0       2   1725.55\n",
            "2   28    1  33.0         3       0       2   4449.46\n",
            "3   33    1  22.7         0       0       1  21984.47\n",
            "4   32    1  28.9         0       0       1   3866.86\n"
          ]
        }
      ],
      "metadata": {
        "colab": {
          "base_uri": "https://localhost:8080/"
        },
        "id": "zdtqi6X7tkdP",
        "outputId": "89412512-9c26-4a4f-c925-0a4e086d0518"
      }
    },
    {
      "cell_type": "markdown",
      "source": [
        "## Preparing Train and Test data\n",
        "\n",
        "The dataset is split into Train and Test set in ratio $70:30$ i.e. ${70\\%}$ in Train set and ${30\\%}$ in Test set."
      ],
      "metadata": {
        "id": "Mw0Kf19S7L8y"
      }
    },
    {
      "cell_type": "code",
      "execution_count": null,
      "source": [
        "import numpy as np\r\n",
        "import pandas as pd\r\n",
        "\r\n",
        "X = np.array([df.loc[i][:-1] for i in range(len(df))])\r\n",
        "Y = np.array(df['expenses'])\r\n",
        "\r\n",
        "size = len(df)\r\n",
        "random_indice = np.random.permutation(size)\r\n",
        "num_train = int(size*0.7)\r\n",
        "num_test = int(size*0.3)\r\n",
        "\r\n",
        "X_train = X[random_indice[:num_train]]\r\n",
        "y_train = Y[random_indice[:num_train]]\r\n",
        "X_test = X[random_indice[-num_test:]]\r\n",
        "y_test = Y[random_indice[-num_test:]]"
      ],
      "outputs": [],
      "metadata": {
        "id": "JfoCfGr6hR1i"
      }
    },
    {
      "cell_type": "markdown",
      "source": [
        "## Implementation of steps\n",
        "\n",
        "$size$ represents the total number of training instances, $\\alpha = 0.0001$ and number of iterations = $10^5$\n",
        "\n",
        "1. Start with some $\\underline w$\n",
        "2. Repeat until convergence (very large number of iterations)\n",
        "    1.  $\\underline h = <\\underline w, \\underline x>$\n",
        "    2.  $cost = \\frac 12 \\times size \\times \\sum{(\\underline h - \\underline y)^2}$\n",
        "    3.  $\\underline d_w = \\frac {d(cost)}{dw} = \\frac{1}{size} \\times (<(\\underline h - \\underline y), \\underline x>)$\n",
        "    4.  $\\underline w = \\underline w - \\alpha \\times \\underline d_w$\n",
        "\n",
        "Because I am calculating the inner product, so it is same as taking each training instances, multiplying with weight coefficients and taking the sum. Therefore, we get the derivatives in $\\underline d_w$ as a vector and hence the updated weights can easily be obtained in Step $2.4$"
      ],
      "metadata": {
        "id": "76cUoFq70c6U"
      }
    },
    {
      "cell_type": "code",
      "execution_count": null,
      "source": [
        "import random\r\n",
        "w = [random.random() for _ in range(len(X_train[0]))]\r\n",
        "print(\"Initial weight : \",w)\r\n",
        "\r\n",
        "alpha = 0.0001\r\n",
        "epoch = 100000\r\n",
        "\r\n",
        "cost = []\r\n",
        "for i in range(epoch):\r\n",
        "  h = np.inner(w, X_train) # w=(1,6)  X_train=(n, 6)  h=(n,1)\r\n",
        "  cost.append(0.5*num_train*(np.sum(np.square(h - y_train))))\r\n",
        "  d_w = (1/num_train)*(np.inner(h - y_train, np.transpose(X_train))) #d_w=(1,6)\r\n",
        "  w = w - alpha*np.transpose(d_w)\r\n",
        "\r\n",
        "print(\"Final weight : \",w)"
      ],
      "outputs": [
        {
          "output_type": "stream",
          "name": "stdout",
          "text": [
            "Initial weight :  [0.8722695306496072, 0.7234165689405115, 0.10330294880805713, 0.09944336245092544, 0.983344204336581, 0.7163423787420305]\n",
            "Final weight :  [  214.35834607  -435.83863553    71.5076554    334.09112023\n",
            " 18526.56149504  -683.48450528]\n"
          ]
        }
      ],
      "metadata": {
        "colab": {
          "base_uri": "https://localhost:8080/"
        },
        "id": "LV8eGjW5UGUU",
        "outputId": "8551a50b-87ea-40e4-f759-ea7173cb23ca"
      }
    },
    {
      "cell_type": "markdown",
      "source": [
        "## Prediction and calculating $R^2$ score\n",
        "\n",
        "Prediction has been done by applying updated weights on test set. The observed $R^2$ score is = $0.6968$"
      ],
      "metadata": {
        "id": "8qcCoi3U5yRO"
      }
    },
    {
      "cell_type": "code",
      "execution_count": null,
      "source": [
        "y_pred = np.inner(w, X_test)\r\n",
        "u = sum((y_pred - y_test)**2)\r\n",
        "v = sum((y_test - np.mean(y_test))**2)\r\n",
        "r2 = 1 - (u/v)\r\n",
        "print(\"Score : \"+str(r2))"
      ],
      "outputs": [
        {
          "output_type": "stream",
          "name": "stdout",
          "text": [
            "Score : 0.6968352930500166\n"
          ]
        }
      ],
      "metadata": {
        "colab": {
          "base_uri": "https://localhost:8080/"
        },
        "id": "-ON7FyZYxNMe",
        "outputId": "59374bb1-f35f-4850-e86a-50917a86d882"
      }
    },
    {
      "cell_type": "markdown",
      "source": [
        "## Epoch-Cost plot\n",
        "\n",
        "From the plot below, the cost can be easily seen reducing at the end."
      ],
      "metadata": {
        "id": "4L5Zgmxp6QJa"
      }
    },
    {
      "cell_type": "code",
      "execution_count": null,
      "source": [
        "import matplotlib.pyplot as plt\r\n",
        "plt.plot(np.arange(epoch), cost)\r\n",
        "plt.xlabel(\"Epochs\")\r\n",
        "plt.ylabel(\"Cost\")\r\n",
        "plt.show()"
      ],
      "outputs": [
        {
          "output_type": "display_data",
          "data": {
            "image/png": "[encoded data removed]",
            "text/plain": [
              "<Figure size 432x288 with 1 Axes>"
            ]
          },
          "metadata": {
            "needs_background": "light"
          }
        }
      ],
      "metadata": {
        "colab": {
          "base_uri": "https://localhost:8080/",
          "height": 290
        },
        "id": "yr0SECnoteKR",
        "outputId": "68f07c46-752e-44fd-a400-c57d4dfd58db"
      }
    },
    {
      "cell_type": "markdown",
      "source": [
        "## Comparison with Scikits-learn's `LinearRegression()`\n",
        "\n",
        "Using the inbuilt `LinearRegression()` in `Scikits-learn`, the obtained $R^2$ score on the same test set is $0.7480$, which is close to the $R^2$ score obtained above."
      ],
      "metadata": {
        "id": "Joi1qGH96gEF"
      }
    },
    {
      "cell_type": "code",
      "execution_count": null,
      "source": [
        "from sklearn.linear_model import LinearRegression\r\n",
        "clf = LinearRegression()\r\n",
        "clf.fit(X_train, y_train)\r\n",
        "print(\"Score : \"+str(clf.score(X_test, y_test)))"
      ],
      "outputs": [
        {
          "output_type": "stream",
          "name": "stdout",
          "text": [
            "Score : 0.748009421569502\n"
          ]
        }
      ],
      "metadata": {
        "colab": {
          "base_uri": "https://localhost:8080/"
        },
        "id": "9l_azhPUzL2s",
        "outputId": "416ee970-16e5-4cb0-f21b-f44db369cbb4"
      }
    },
    {
      "cell_type": "markdown",
      "source": [
        "# **Linear Regression using Pseudo-inverse method**\n",
        "\n",
        "It is a very straight-forward method to calculate the weight from given Train set. The general method is,\n",
        "\n",
        "$\\underline x \\times \\underline w=\\underline y$\n",
        "\n",
        "therefore, the unknown weights can be calculated as,\n",
        "\n",
        "$\\underline w = \\underline x^{-1} \\times \\underline y$\n",
        "\n",
        "If $\\underline x$ is not invertible, then the pseudo-inverse is calculated.\n"
      ],
      "metadata": {
        "id": "zlvql9_i9WEo"
      }
    },
    {
      "cell_type": "markdown",
      "source": [
        "## Preprocessing Task\n",
        "\n",
        "There are some features which are categorical and take binary values. So the values have been converted into numerical values i.e. 0 and 1."
      ],
      "metadata": {
        "id": "NlTSGgmzwmX_"
      }
    },
    {
      "cell_type": "code",
      "execution_count": null,
      "source": [
        "import numpy as np\r\n",
        "import pandas as pd\r\n",
        "from sklearn.preprocessing import LabelEncoder\r\n",
        "\r\n",
        "df = pd.read_csv('./datasets/insurance.csv')\r\n",
        "print(df.head(5))\r\n",
        "\r\n",
        "le = LabelEncoder()\r\n",
        "\r\n",
        "le.fit(df['sex'])\r\n",
        "df['sex'] = le.transform(df['sex'])\r\n",
        "\r\n",
        "le.fit(df['smoker'])\r\n",
        "df['smoker'] = le.transform(df['smoker'])\r\n",
        "\r\n",
        "le.fit(df['region'])\r\n",
        "df['region'] = le.transform(df['region'])\r\n",
        "\r\n",
        "print(df.head(5))"
      ],
      "outputs": [
        {
          "output_type": "stream",
          "name": "stdout",
          "text": [
            "   age     sex   bmi  children smoker     region  expenses\n",
            "0   19  female  27.9         0    yes  southwest  16884.92\n",
            "1   18    male  33.8         1     no  southeast   1725.55\n",
            "2   28    male  33.0         3     no  southeast   4449.46\n",
            "3   33    male  22.7         0     no  northwest  21984.47\n",
            "4   32    male  28.9         0     no  northwest   3866.86\n",
            "   age  sex   bmi  children  smoker  region  expenses\n",
            "0   19    0  27.9         0       1       3  16884.92\n",
            "1   18    1  33.8         1       0       2   1725.55\n",
            "2   28    1  33.0         3       0       2   4449.46\n",
            "3   33    1  22.7         0       0       1  21984.47\n",
            "4   32    1  28.9         0       0       1   3866.86\n"
          ]
        }
      ],
      "metadata": {
        "colab": {
          "base_uri": "https://localhost:8080/"
        },
        "id": "kH7YXn5Twirp",
        "outputId": "dffe03e6-0757-433f-ae72-0faf2aafd551"
      }
    },
    {
      "cell_type": "markdown",
      "source": [
        "## Preparing Train and Test data\n",
        "\n",
        "The dataset is split into Train and Test set in ratio $70:30$ i.e. ${70\\%}$ in Train set and ${30\\%}$ in Test set.\n",
        "\n"
      ],
      "metadata": {
        "id": "BsyZbcQc9vCr"
      }
    },
    {
      "cell_type": "code",
      "execution_count": null,
      "source": [
        "import numpy as np\r\n",
        "import pandas as pd\r\n",
        "\r\n",
        "X = np.array([df.loc[i][:-1] for i in range(len(df))])\r\n",
        "Y = np.array(df['expenses'])\r\n",
        "\r\n",
        "size = len(df)\r\n",
        "random_indice = np.random.permutation(size)\r\n",
        "num_train = int(size*0.7)\r\n",
        "num_test = int(size*0.3)\r\n",
        "\r\n",
        "X_train = X[random_indice[:num_train]]\r\n",
        "y_train = Y[random_indice[:num_train]]\r\n",
        "X_test = X[random_indice[-num_test:]]\r\n",
        "y_test = Y[random_indice[-num_test:]]"
      ],
      "outputs": [],
      "metadata": {
        "id": "5OZtXvpQ9po9"
      }
    },
    {
      "cell_type": "markdown",
      "source": [
        "## Calculation of $\\underline w = \\underline x^{-1} \\times \\underline y$"
      ],
      "metadata": {
        "id": "wF-65xncxViH"
      }
    },
    {
      "cell_type": "code",
      "execution_count": null,
      "source": [
        "if len(X_train)!=len(X_train[0]) or np.linalg.det(X_train)==0:\r\n",
        "  w1 = np.matmul(np.linalg.pinv(X_train), np.transpose(y_train))\r\n",
        "else :\r\n",
        "  w1 = np.matmul(np.transpose(y_train), np.linalg.inv(X_train))"
      ],
      "outputs": [],
      "metadata": {
        "id": "AaOsv_u_7Htu"
      }
    },
    {
      "cell_type": "markdown",
      "source": [
        "## Prediction and calculating $R^2$ score\n",
        "\n",
        "Prediction has been done by applying updated weights on test set. The observed $R^2$ score is $\\approx 0.73$"
      ],
      "metadata": {
        "id": "wDvnkR2exhLJ"
      }
    },
    {
      "cell_type": "code",
      "execution_count": null,
      "source": [
        "y_pred = np.inner(w1, X_test)\r\n",
        "u = sum((y_pred - y_test)**2)\r\n",
        "v = sum((y_test - np.mean(y_test))**2)\r\n",
        "r2 = 1 - (u/v)\r\n",
        "print(\"Score : \"+str(r2))"
      ],
      "outputs": [
        {
          "output_type": "stream",
          "name": "stdout",
          "text": [
            "Score : 0.7299369857918232\n"
          ]
        }
      ],
      "metadata": {
        "colab": {
          "base_uri": "https://localhost:8080/"
        },
        "id": "FPSfJo34UMf2",
        "outputId": "099f572f-453c-4803-9134-fbdb4fef9336"
      }
    },
    {
      "cell_type": "markdown",
      "source": [
        "## Comparison with Scikits-learn's `LinearRegression()`\n",
        "\n",
        "Using the inbuilt `LinearRegression()` in `Scikits-learn`, the obtained $R^2$ score on the same test set is $\\approx 0.76$, which is close to the $R^2$ score obtained above."
      ],
      "metadata": {
        "id": "pfRF4hnAxr9M"
      }
    },
    {
      "cell_type": "code",
      "execution_count": null,
      "source": [
        "from sklearn.linear_model import LinearRegression\r\n",
        "clf = LinearRegression()\r\n",
        "clf.fit(X_train, y_train)\r\n",
        "print(\"Score : \"+str(clf.score(X_test, y_test)))"
      ],
      "outputs": [
        {
          "output_type": "stream",
          "name": "stdout",
          "text": [
            "Score : 0.7615234860015696\n"
          ]
        }
      ],
      "metadata": {
        "colab": {
          "base_uri": "https://localhost:8080/"
        },
        "id": "qqj8HU6vLmq1",
        "outputId": "dfcb566c-989d-4b28-bf93-b226b970f79c"
      }
    }
  ]
}